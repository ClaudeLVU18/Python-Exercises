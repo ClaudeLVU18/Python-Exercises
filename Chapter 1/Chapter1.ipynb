{
 "cells": [
  {
   "cell_type": "markdown",
   "metadata": {},
   "source": [
    "# Exercise 1: Printing"
   ]
  },
  {
   "cell_type": "markdown",
   "metadata": {},
   "source": [
    "Write program to print the following messages\n",
    "\n",
    "*Python uses \"interpreter\" to convert source code into machine code.\n",
    "Interpreter 'translates' program one statement at a time.*"
   ]
  },
  {
   "cell_type": "code",
   "execution_count": 2,
   "metadata": {},
   "outputs": [
    {
     "name": "stdout",
     "output_type": "stream",
     "text": [
      "Python uses 'interpreter' to convert source dode into machine code.\n",
      "Interpreter 'translates program one statement at a time.\n"
     ]
    }
   ],
   "source": [
    "print(\"Python uses 'interpreter' to convert source dode into machine code.\")\n",
    "print(\"Interpreter 'translates program one statement at a time.\")"
   ]
  },
  {
   "cell_type": "markdown",
   "metadata": {},
   "source": [
    "# Exercise 2: Constant variabale PI"
   ]
  },
  {
   "cell_type": "markdown",
   "metadata": {},
   "source": [
    "Write code to calculate the circumference and area of a circle from the radius. The program should ask the user to enter the desired radius of the circle. PI is defined as: 3.14159 Area is defined as: PI * radius * radius Circumference is defined as: PI * Radius * 2    "
   ]
  },
  {
   "cell_type": "code",
   "execution_count": 6,
   "metadata": {},
   "outputs": [
    {
     "name": "stdout",
     "output_type": "stream",
     "text": [
      "Area: 12.56636\n",
      "Circumference: 12.56636\n"
     ]
    }
   ],
   "source": [
    "rad = float(input(\"Enter the desired radius: \"))\n",
    "pi = 3.14159\n",
    "area = pi*rad*rad\n",
    "circu = pi*rad*2\n",
    "print(f\"Area: {area}\")\n",
    "print(f\"Circumference: {circu}\")"
   ]
  },
  {
   "cell_type": "markdown",
   "metadata": {},
   "source": [
    "# Exercise 3 A: User Input Output\n",
    "\n",
    "Write code to prompt the user to input her/his name, age and hometown and print these details on the screen. The format of text should look like the sample output below but you can only use a single print when outputting the information.\n",
    "\n",
    "*Your Name is: Alpha\n",
    "Your Age is: 22\n",
    "Your Hometown is: Ras Al Khaimah*"
   ]
  },
  {
   "cell_type": "code",
   "execution_count": 9,
   "metadata": {},
   "outputs": [
    {
     "name": "stdout",
     "output_type": "stream",
     "text": [
      "Your Name is: claude\n",
      "Your Age is: 21\n",
      "Your Hometown is: haha\n"
     ]
    }
   ],
   "source": [
    "userName = input(\"Enter your name: \")\n",
    "userAge = int(input(\"Enter your age: \"))\n",
    "userHom = input(\"Enter your hometown: \")\n",
    "print(\"Your Name is:\", userName)\n",
    "print(\"Your Age is:\", userAge)\n",
    "print(\"Your Hometown is:\", userHom)"
   ]
  },
  {
   "cell_type": "markdown",
   "metadata": {},
   "source": [
    "# Exercise 3 b: User Input Output\n",
    "\n",
    "Write code to prompt the user to input her/his name and age and print these details on the screen. Find the length of the name and also the age of the user after one year. The format of text should look like the sample output below. (Use title() function)\n",
    "\n",
    "*Hello, user!\n",
    "What is your name?\n",
    "alpha s\n",
    "What is your age?\n",
    "22\n",
    "It is good to meet you, Alpha S\n",
    "The length of your name is:\n",
    "5\n",
    "You will be 23 in a year.*"
   ]
  },
  {
   "cell_type": "code",
   "execution_count": 23,
   "metadata": {},
   "outputs": [
    {
     "name": "stdout",
     "output_type": "stream",
     "text": [
      "Hello, user!\n",
      "What is your name?\n",
      "- Claude\n",
      "What is your age?\n",
      "- 19\n",
      "It is good to meet you, Claude\n",
      "Then length of your name in letters is: 6\n",
      "You will be 20 in a year.\n"
     ]
    }
   ],
   "source": [
    "print(\"Hello, user!\")\n",
    "print(\"What is your name?\")\n",
    "userNam = input()\n",
    "print(\"-\",userNam.title())\n",
    "print(\"What is your age?\")\n",
    "userAge = int(input())\n",
    "print(\"-\",userAge)\n",
    "print(f\"It is good to meet you, {userNam.title()}\")\n",
    "print(f\"Then length of your name in letters is: {len(userNam)}\")\n",
    "print(f\"You will be {userAge+1} in a year.\")"
   ]
  },
  {
   "cell_type": "markdown",
   "metadata": {},
   "source": [
    "# Exercise 4: Number Input Output\n",
    "\n",
    "Write code to prompt the user to input 3 integer values and print these values in forward and reversed order in a similar format to the below.\n",
    "\n",
    "*enter three numbers\n",
    "number 1 :10\n",
    "number 2 :20\n",
    "number 3 :60\n",
    "Your numbers forward:\n",
    "10\n",
    "20\n",
    "60\n",
    "Your numbers reversed:\n",
    "60\n",
    "20\n",
    "10*\n"
   ]
  },
  {
   "cell_type": "code",
   "execution_count": 25,
   "metadata": {},
   "outputs": [
    {
     "name": "stdout",
     "output_type": "stream",
     "text": [
      "Enter three numbers: \n",
      "Your numbers forward:\n",
      "1\n",
      "2\n",
      "3\n",
      "Your numbers reversed:\n",
      "3\n",
      "2\n",
      "1\n"
     ]
    }
   ],
   "source": [
    "print(\"Enter three numbers: \")\n",
    "num1 = int(input(\"Number 1: \"))\n",
    "num2 = int(input(\"Number 2: \"))\n",
    "num3 = int(input(\"Number 3: \"))\n",
    "print(\"Your numbers forward:\")\n",
    "print(num1)\n",
    "print(num2)\n",
    "print(num3)\n",
    "print(\"Your numbers reversed:\")\n",
    "print(num3)\n",
    "print(num2)\n",
    "print(num1)\n"
   ]
  },
  {
   "cell_type": "markdown",
   "metadata": {},
   "source": [
    "# Exercise 5: Maths ☑️\n",
    "Write a program that evaluates the following calculations for two int numbers obtained from the user and outputs the results to the console:\n",
    "\n",
    "Sum (+) | Diff (-) | Product (x) | Quotient (/) | Remainder (%)\n"
   ]
  },
  {
   "cell_type": "code",
   "execution_count": 27,
   "metadata": {},
   "outputs": [
    {
     "ename": "ValueError",
     "evalue": "invalid literal for int() with base 10: ''",
     "output_type": "error",
     "traceback": [
      "\u001b[1;31m---------------------------------------------------------------------------\u001b[0m",
      "\u001b[1;31mValueError\u001b[0m                                Traceback (most recent call last)",
      "Cell \u001b[1;32mIn [27], line 1\u001b[0m\n\u001b[1;32m----> 1\u001b[0m num1 \u001b[38;5;241m=\u001b[39m \u001b[38;5;28;43mint\u001b[39;49m\u001b[43m(\u001b[49m\u001b[38;5;28;43minput\u001b[39;49m\u001b[43m(\u001b[49m\u001b[38;5;124;43m\"\u001b[39;49m\u001b[38;5;124;43mEnter the first digit: \u001b[39;49m\u001b[38;5;124;43m\"\u001b[39;49m\u001b[43m)\u001b[49m\u001b[43m)\u001b[49m\n\u001b[0;32m      2\u001b[0m num2 \u001b[38;5;241m=\u001b[39m \u001b[38;5;28mint\u001b[39m(\u001b[38;5;28minput\u001b[39m(\u001b[38;5;124m\"\u001b[39m\u001b[38;5;124mEnter the second digit: \u001b[39m\u001b[38;5;124m\"\u001b[39m))\n\u001b[0;32m      4\u001b[0m \u001b[38;5;28mprint\u001b[39m(\u001b[38;5;124m\"\u001b[39m\u001b[38;5;124mSum:\u001b[39m\u001b[38;5;124m\"\u001b[39m,num1\u001b[38;5;241m+\u001b[39m\u001b[38;5;241m2\u001b[39m)\n",
      "\u001b[1;31mValueError\u001b[0m: invalid literal for int() with base 10: ''"
     ]
    }
   ],
   "source": [
    "num1 = int(input(\"Enter the first digit: \"))\n",
    "num2 = int(input(\"Enter the second digit: \"))\n",
    "\n",
    "print(\"Sum:\",num1+2)\n",
    "print(\"Difference:\",num1-2)\n",
    "print(\"Product:\",num1*2)\n",
    "print(\"Quotient:\",num1/2)\n",
    "print(\"Remainder:\",num1%2)"
   ]
  },
  {
   "cell_type": "markdown",
   "metadata": {},
   "source": [
    "# Exercise 6: Is it Triangle\n",
    "\n",
    "Write a program that asks the user to enter the lengths of the three sides of a triangle. Use the triangle inequality to determine if we have a triangle: In mathematics, the triangle inequality states that for any triangle, the sum of the lengths of any two sides must be greater than or equal to the length of the remaining side (see here)\n",
    "\n",
    "Extension Problem (Optional):\n",
    "If valid, as the user for the length of the sides and have the program correctly classify the type of triangle as either: Equilateral, Isosceles or Scalene"
   ]
  },
  {
   "cell_type": "code",
   "execution_count": 28,
   "metadata": {},
   "outputs": [
    {
     "name": "stdout",
     "output_type": "stream",
     "text": [
      "The triangle is valid\n",
      "\n",
      "It is a Scalene Triangle\n"
     ]
    }
   ],
   "source": [
    "\n",
    "def tri(a, b, c): #Function called to request user input\n",
    "    if a + b >= c and b + c >= a and c + a >= b: # checks the rule of triangle inequality \n",
    "        return True\n",
    "side1 = float(input(\"Enter length of side a: \"))\n",
    "side2 = float(input(\"Enter length of side b: \"))\n",
    "side3 = float(input(\"Enter length of side c: \"))\n",
    "\n",
    "valid = tri(side1, side2, side3) #Main function to check for the triangle type\n",
    "if valid == True:\n",
    "    if side1 == side2 or side1 == side3 or side3 == side2:\n",
    "        print(\"You have entered an Isosceles triangle\")\n",
    "    elif side1 == side2 == side3:\n",
    "        print(\"You have entered an Equilateral \")\n",
    "    else:\n",
    "        print(\"You have entered a Scalene triangle\")\n",
    "else:\n",
    "    print(\"ERROR: Triangle is invalid\")\n",
    "\n"
   ]
  },
  {
   "cell_type": "markdown",
   "metadata": {},
   "source": [
    "# Exercise 7: Is it Even? \n",
    "\n",
    "Write a program that allows the user to input a number and checks whether the number is even or not using the Ternary operator."
   ]
  },
  {
   "cell_type": "code",
   "execution_count": 30,
   "metadata": {},
   "outputs": [
    {
     "name": "stdout",
     "output_type": "stream",
     "text": [
      "Odd\n"
     ]
    }
   ],
   "source": [
    "\n",
    "userInp = int(input(\"Enter a number and check whether it is even or odd\")) #Asks the user for the input to be checked\n",
    "print(\"Even\" if userInp % 2 == 0 else \"Odd\") #ternary operation"
   ]
  },
  {
   "cell_type": "markdown",
   "metadata": {},
   "source": [
    " # Exercise 8: Largest Number ☑️\n",
    "Write a program to input three numbers and outputs the largest using\n",
    "\n",
    "*The Ternary operator\n",
    "The multiple if -else operator*"
   ]
  },
  {
   "cell_type": "code",
   "execution_count": 37,
   "metadata": {},
   "outputs": [
    {
     "name": "stdout",
     "output_type": "stream",
     "text": [
      "4\n"
     ]
    }
   ],
   "source": [
    "num1 = int(input(\"Enter the first number\"))\n",
    "num2 = int(input(\"Enter the second number\"))\n",
    "num3 = int(input(\"Enter the third number\"))\n",
    "\n",
    "print(num1 if num1 > num2 and  num1 > num3 else num2 if num2 > num3 and num2 > num1 else num3)"
   ]
  },
  {
   "cell_type": "markdown",
   "metadata": {},
   "source": [
    "# Exercise 9: continue ☑️\n",
    "\n",
    "Write a program that implements a while loop. This program should ask the user if they would like to continue and use the while loop to keep looping as long as they enter the letter Y. Once the while loop has terminated output the number of times it is executed"
   ]
  },
  {
   "cell_type": "markdown",
   "metadata": {},
   "source": []
  },
  {
   "cell_type": "code",
   "execution_count": 70,
   "metadata": {},
   "outputs": [
    {
     "name": "stdout",
     "output_type": "stream",
     "text": [
      "Terminated.\n",
      "Execution Count:  13\n"
     ]
    }
   ],
   "source": [
    "\n",
    "count = 0 #ddefining a variable that counts the times code is executed\n",
    "while True:\n",
    "    ans = input(\"Enter 'Y' to continue: \")\n",
    "    if ans == 'Y' or ans == 'y': #and operator to avoid case sensitivity for 'y'\n",
    "        count += 1\n",
    "        continue\n",
    "    else:\n",
    "        print(\"Terminated.\")\n",
    "        break\n",
    "\n",
    "print(\"Execution Count: \",count)\n"
   ]
  },
  {
   "cell_type": "markdown",
   "metadata": {},
   "source": [
    "# Exercise 10: FizzBuzz ☑️\n",
    "Write a program that prints the numbers from 1 to 100. But for multiples of three print Fizz” instead of the number and for the multiples of five print “Buzz”. For numbers which are multiples of both three and five print “FizzBuzz”."
   ]
  },
  {
   "cell_type": "code",
   "execution_count": 6,
   "metadata": {},
   "outputs": [
    {
     "name": "stdout",
     "output_type": "stream",
     "text": [
      "1\n",
      "2\n",
      "Fizz\n",
      "4\n",
      "Buzz\n",
      "Fizz\n",
      "7\n",
      "8\n",
      "Fizz\n",
      "Buzz\n",
      "11\n",
      "Fizz\n",
      "13\n",
      "14\n",
      "FizzBuzz\n",
      "16\n",
      "17\n",
      "Fizz\n",
      "19\n",
      "Buzz\n",
      "Fizz\n",
      "22\n",
      "23\n",
      "Fizz\n",
      "Buzz\n",
      "26\n",
      "Fizz\n",
      "28\n",
      "29\n",
      "FizzBuzz\n",
      "31\n",
      "32\n",
      "Fizz\n",
      "34\n",
      "Buzz\n",
      "Fizz\n",
      "37\n",
      "38\n",
      "Fizz\n",
      "Buzz\n",
      "41\n",
      "Fizz\n",
      "43\n",
      "44\n",
      "FizzBuzz\n",
      "46\n",
      "47\n",
      "Fizz\n",
      "49\n",
      "Buzz\n",
      "Fizz\n",
      "52\n",
      "53\n",
      "Fizz\n",
      "Buzz\n",
      "56\n",
      "Fizz\n",
      "58\n",
      "59\n",
      "FizzBuzz\n",
      "61\n",
      "62\n",
      "Fizz\n",
      "64\n",
      "Buzz\n",
      "Fizz\n",
      "67\n",
      "68\n",
      "Fizz\n",
      "Buzz\n",
      "71\n",
      "Fizz\n",
      "73\n",
      "74\n",
      "FizzBuzz\n",
      "76\n",
      "77\n",
      "Fizz\n",
      "79\n",
      "Buzz\n",
      "Fizz\n",
      "82\n",
      "83\n",
      "Fizz\n",
      "Buzz\n",
      "86\n",
      "Fizz\n",
      "88\n",
      "89\n",
      "FizzBuzz\n",
      "91\n",
      "92\n",
      "Fizz\n",
      "94\n",
      "Buzz\n",
      "Fizz\n",
      "97\n",
      "98\n",
      "Fizz\n"
     ]
    }
   ],
   "source": [
    "for a in range(1,100): #declares the range of numbers from 1-100\n",
    "    if a % 5 == 0 and a % 3 == 0: #conditionals set to look for multiples of 3 and 5 in order to print 'FizzBuzz' by using the modulus operator\n",
    "        print(\"FizzBuzz\")\n",
    "        continue\n",
    "    elif a % 3 == 0:\n",
    "        print(\"Fizz\")\n",
    "        continue\n",
    "    elif a % 5 == 0:\n",
    "        print(\"Buzz\")\n",
    "        continue\n",
    "    print(a)\n"
   ]
  },
  {
   "cell_type": "markdown",
   "metadata": {},
   "source": [
    "# Exercise 11: Even Numbers ☑️\n",
    "Write a program that prints the even numbers from 1 to 100. Hint - Use Continue Statement"
   ]
  },
  {
   "cell_type": "markdown",
   "metadata": {},
   "source": [
    "for i in range(100)\n"
   ]
  },
  {
   "cell_type": "code",
   "execution_count": 13,
   "metadata": {},
   "outputs": [
    {
     "name": "stdout",
     "output_type": "stream",
     "text": [
      "2\n",
      "4\n",
      "6\n",
      "8\n",
      "10\n",
      "12\n",
      "14\n",
      "16\n",
      "18\n",
      "20\n",
      "22\n",
      "24\n",
      "26\n",
      "28\n",
      "30\n",
      "32\n",
      "34\n",
      "36\n",
      "38\n",
      "40\n",
      "42\n",
      "44\n",
      "46\n",
      "48\n",
      "50\n",
      "52\n",
      "54\n",
      "56\n",
      "58\n",
      "60\n",
      "62\n",
      "64\n",
      "66\n",
      "68\n",
      "70\n",
      "72\n",
      "74\n",
      "76\n",
      "78\n",
      "80\n",
      "82\n",
      "84\n",
      "86\n",
      "88\n",
      "90\n",
      "92\n",
      "94\n",
      "96\n",
      "98\n"
     ]
    }
   ],
   "source": [
    "for i in range(1,100): #declaring range of 1-100\n",
    "    if i % 2 == 1: #to find even numbers, we have to set the modulus remainder to be equivalent to 1.\n",
    "        continue #continue statement to pass along the code when function is operating.\n",
    "    print(i)"
   ]
  },
  {
   "cell_type": "code",
   "execution_count": 24,
   "metadata": {},
   "outputs": [
    {
     "name": "stdout",
     "output_type": "stream",
     "text": [
      "There is a total of 4 day(s).\n",
      "There are 96 hours in those number of days.\n",
      "There are 5760 minutes in those number of days.\n",
      "There are 345600 seconds in those number of days.\n"
     ]
    }
   ],
   "source": [
    "days = int(input(\"Enter a number of days: \")) #numbers of days are declared by the user's input\n",
    "hours = days*24 #a day has 24 hours, therefore we multiply number of days with 24\n",
    "mins = hours*60 #in an hour, there are 60 mins. To find how many minutes are there in the specified number of days we multiply by 60\n",
    "sec = mins*60 #in a minute, there are 60 seconds. We repeat the same process as minutes.\n",
    "\n",
    "#printing the output conversion of the days from the user's input.\n",
    "print(f\"There is a total of {days} day(s).\") \n",
    "print(f\"There are {hours} hours in those number of days.\")\n",
    "print(f\"There are {mins} minutes in those number of days.\")\n",
    "print(f\"There are {sec} seconds in those number of days.\")"
   ]
  },
  {
   "cell_type": "markdown",
   "metadata": {},
   "source": [
    "### Optional Exercise 13: Sum of Digits in a Number\n",
    "Write Python Program to Find the Sum of Digits in a Number .For example if enters a number 1234 the result is 1+2+3+4 = 10"
   ]
  },
  {
   "cell_type": "code",
   "execution_count": 1,
   "metadata": {},
   "outputs": [
    {
     "data": {
      "text/plain": [
       "10"
      ]
     },
     "execution_count": 1,
     "metadata": {},
     "output_type": "execute_result"
    }
   ],
   "source": [
    "def sumUp(n): # i is taken from the user input.\n",
    "    sum = 0 #declaring an empty variable for the sum.\n",
    "    for a in n: #a range defined by the number the user has given, since the number the user has inputted is a string, it takes every character as an individual integer.\n",
    "        sum += int(a)\n",
    "        \n",
    "    return sum\n",
    "\n",
    "userInput = input() #First, the user input is received as a string and sent to the function.\n",
    "print(sumUp(userInput))\n"
   ]
  },
  {
   "cell_type": "markdown",
   "metadata": {},
   "source": [
    "### Optional Exercise 14: Print Pattern\n",
    "Write a program to display the following pattern using nested loops.\n",
    "\n",
    "1\n",
    "1 2\n",
    "1 2 3\n",
    "1 2 3 4\n",
    "1 2 3 4 5"
   ]
  },
  {
   "cell_type": "code",
   "execution_count": 17,
   "metadata": {},
   "outputs": [
    {
     "name": "stdout",
     "output_type": "stream",
     "text": [
      "\n",
      "\n",
      "1 \n",
      "\n",
      "1 2 \n",
      "\n",
      "1 2 3 \n",
      "\n",
      "1 2 3 4 \n",
      "\n",
      "1 2 3 4 5 \n",
      "\n"
     ]
    }
   ],
   "source": [
    "for i in range(6): #sets the amount of rows to be outputted, as indicated by the instruction, 6 rows are defined\n",
    "    for i in range(1,i+1): # setting the range to begin at 1 rather than 0, then incrementing the next value until rows are completed\n",
    "        print(i, end=\" \") #end allows for the stacked pyramid style when outputted\n",
    "    print(\"\\n\")"
   ]
  },
  {
   "cell_type": "markdown",
   "metadata": {},
   "source": [
    "### Optional Exercise 15: Multiplication Tables\n",
    "\n",
    "Write a program to print Multiplication table in following format from 1 to 10 tables Hint: Use nested loops"
   ]
  },
  {
   "cell_type": "code",
   "execution_count": 58,
   "metadata": {},
   "outputs": [
    {
     "name": "stdout",
     "output_type": "stream",
     "text": [
      "Multiplication table of 1:\n",
      "1 x 1 = 1\n",
      "1 x 2 = 2\n",
      "1 x 3 = 3\n",
      "1 x 4 = 4\n",
      "1 x 5 = 5\n",
      "1 x 6 = 6\n",
      "1 x 7 = 7\n",
      "1 x 8 = 8\n",
      "1 x 9 = 9\n",
      "1 x 10 = 10\n",
      "Multiplication table of 2:\n",
      "2 x 1 = 2\n",
      "2 x 2 = 4\n",
      "2 x 3 = 6\n",
      "2 x 4 = 8\n",
      "2 x 5 = 10\n",
      "2 x 6 = 12\n",
      "2 x 7 = 14\n",
      "2 x 8 = 16\n",
      "2 x 9 = 18\n",
      "2 x 10 = 20\n",
      "Multiplication table of 3:\n",
      "3 x 1 = 3\n",
      "3 x 2 = 6\n",
      "3 x 3 = 9\n",
      "3 x 4 = 12\n",
      "3 x 5 = 15\n",
      "3 x 6 = 18\n",
      "3 x 7 = 21\n",
      "3 x 8 = 24\n",
      "3 x 9 = 27\n",
      "3 x 10 = 30\n",
      "Multiplication table of 4:\n",
      "4 x 1 = 4\n",
      "4 x 2 = 8\n",
      "4 x 3 = 12\n",
      "4 x 4 = 16\n",
      "4 x 5 = 20\n",
      "4 x 6 = 24\n",
      "4 x 7 = 28\n",
      "4 x 8 = 32\n",
      "4 x 9 = 36\n",
      "4 x 10 = 40\n",
      "Multiplication table of 5:\n",
      "5 x 1 = 5\n",
      "5 x 2 = 10\n",
      "5 x 3 = 15\n",
      "5 x 4 = 20\n",
      "5 x 5 = 25\n",
      "5 x 6 = 30\n",
      "5 x 7 = 35\n",
      "5 x 8 = 40\n",
      "5 x 9 = 45\n",
      "5 x 10 = 50\n",
      "Multiplication table of 6:\n",
      "6 x 1 = 6\n",
      "6 x 2 = 12\n",
      "6 x 3 = 18\n",
      "6 x 4 = 24\n",
      "6 x 5 = 30\n",
      "6 x 6 = 36\n",
      "6 x 7 = 42\n",
      "6 x 8 = 48\n",
      "6 x 9 = 54\n",
      "6 x 10 = 60\n",
      "Multiplication table of 7:\n",
      "7 x 1 = 7\n",
      "7 x 2 = 14\n",
      "7 x 3 = 21\n",
      "7 x 4 = 28\n",
      "7 x 5 = 35\n",
      "7 x 6 = 42\n",
      "7 x 7 = 49\n",
      "7 x 8 = 56\n",
      "7 x 9 = 63\n",
      "7 x 10 = 70\n",
      "Multiplication table of 8:\n",
      "8 x 1 = 8\n",
      "8 x 2 = 16\n",
      "8 x 3 = 24\n",
      "8 x 4 = 32\n",
      "8 x 5 = 40\n",
      "8 x 6 = 48\n",
      "8 x 7 = 56\n",
      "8 x 8 = 64\n",
      "8 x 9 = 72\n",
      "8 x 10 = 80\n",
      "Multiplication table of 9:\n",
      "9 x 1 = 9\n",
      "9 x 2 = 18\n",
      "9 x 3 = 27\n",
      "9 x 4 = 36\n",
      "9 x 5 = 45\n",
      "9 x 6 = 54\n",
      "9 x 7 = 63\n",
      "9 x 8 = 72\n",
      "9 x 9 = 81\n",
      "9 x 10 = 90\n",
      "Multiplication table of 10:\n",
      "10 x 1 = 10\n",
      "10 x 2 = 20\n",
      "10 x 3 = 30\n",
      "10 x 4 = 40\n",
      "10 x 5 = 50\n",
      "10 x 6 = 60\n",
      "10 x 7 = 70\n",
      "10 x 8 = 80\n",
      "10 x 9 = 90\n",
      "10 x 10 = 100\n"
     ]
    }
   ],
   "source": [
    "\n",
    "\n",
    "for i in range(1,11): # Declares the amount of multiplication tables to be made\n",
    "    print(f\"Multiplication table of {i}:\")\n",
    "    for j in range(1,11): #declares the range for how much the current table is multiplied to \n",
    "        print(f\"{i} x {j} = {i*j}\")\n",
    "\n",
    "\n",
    "\n"
   ]
  }
 ],
 "metadata": {
  "kernelspec": {
   "display_name": "Python 3.10.9 64-bit (microsoft store)",
   "language": "python",
   "name": "python3"
  },
  "language_info": {
   "codemirror_mode": {
    "name": "ipython",
    "version": 3
   },
   "file_extension": ".py",
   "mimetype": "text/x-python",
   "name": "python",
   "nbconvert_exporter": "python",
   "pygments_lexer": "ipython3",
   "version": "3.10.9 (tags/v3.10.9:1dd9be6, Dec  6 2022, 20:01:21) [MSC v.1934 64 bit (AMD64)]"
  },
  "orig_nbformat": 4,
  "vscode": {
   "interpreter": {
    "hash": "7add48cb922df5a541eb1132cf825c27529da2ac3b471b994650b8bdd5d4461a"
   }
  }
 },
 "nbformat": 4,
 "nbformat_minor": 2
}
